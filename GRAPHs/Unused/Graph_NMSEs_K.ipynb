{
 "cells": [
  {
   "cell_type": "code",
   "id": "initial_id",
   "metadata": {
    "collapsed": true,
    "ExecuteTime": {
     "end_time": "2024-11-19T13:08:46.288194Z",
     "start_time": "2024-11-19T13:08:45.863519Z"
    }
   },
   "source": [
    "import matplotlib.pyplot as plt\n",
    "import numpy as np\n",
    "from functionsUtils import load_results\n",
    "\n",
    "plt.rc('text', usetex=True)\n",
    "plt.rc('font', family='Times New Roman')"
   ],
   "outputs": [],
   "execution_count": 1
  },
  {
   "cell_type": "code",
   "source": [
    "results = load_results('./VARIABLES_SAVED/NMSE_L_100_N_4_NbrSetps_10_50_400.pkl')\n",
    "Kmeans_100_4 = results['Kmeans_locations']\n",
    "Kfootprints_100_4 = results['Kfootprints']\n",
    "Kfootprints_100_4= results['Kfootprints']\n",
    "DCC_100_4 = results['DCC']\n",
    "DCPA_100_4= results['DCPA']\n",
    "balanced_100_4 = results['balanced_random']\n",
    "random_100_4= results['random']\n",
    "\n",
    "results = load_results('./VARIABLES_SAVED/NMSE_L_4_N_100_NbrSetps_10_50_400.pkl')\n",
    "Kmeans_4_100 = results['Kmeans_locations']\n",
    "Kfootprints_4_100 = results['Kfootprints']\n",
    "Kfootprints_4_100 = results['Kfootprints']\n",
    "DCC_4_100 = results['DCC']\n",
    "DCPA_4_100 = results['DCPA']\n",
    "balanced_4_100 = results['balanced_random']\n",
    "random_4_100 = results['random']\n",
    "\n",
    "\n",
    "xAxis = [50, 100, 150, 200, 250, 300, 350, 400]\n",
    "\n",
    "fig = plt.figure()\n",
    "ax = fig.add_subplot(111)\n",
    "\n",
    "plt.grid(visible = True, linestyle='--')\n",
    "ax.set_ylabel(r'sum-NMSE', size=15)\n",
    "plt.xlabel(r'\\textit{K}', size=15)\n",
    "plt.plot(xAxis, DCC_4_100,'m-*', label = r'DCC')\n",
    "plt.plot(xAxis, Kmeans_4_100,'g-*', markersize = 9, label = r'K-footprints+BFPA')\n",
    "plt.plot(xAxis, Kfootprints_4_100,'c-d', markersize = 9, label = r'K-means+BFPA')\n",
    "plt.plot(xAxis, DCPA_4_100,'r-p', label = r'DCPA')\n",
    "plt.plot(xAxis, balanced_4_100,'y-p', label = r'balanced random')\n",
    "plt.plot(xAxis, random_4_100,'b-p', label = r'random')\n",
    "\n",
    "plt.plot(xAxis, DCC_100_4,'m--*', label = r'DCC')\n",
    "plt.plot(xAxis, Kmeans_100_4,'g--*', markersize = 9, label = r'K-footprints+BFPA')\n",
    "plt.plot(xAxis, Kfootprints_100_4,'c--d', markersize = 9, label = r'K-means+BFPA')\n",
    "plt.plot(xAxis, DCPA_100_4,'r--p', label = r'DCPA')\n",
    "plt.plot(xAxis, balanced_100_4,'y--p', label = r'balanced random')\n",
    "plt.plot(xAxis, random_100_4,'b--p', label = r'random')\n",
    "\n",
    "# plt.xlim(18,102)\n",
    "\n",
    "from matplotlib.lines import Line2D\n",
    "custom_lines = [Line2D([0], [0], color='c', lw=4),\n",
    "                Line2D([0], [0], color='m', lw=4),\n",
    "                Line2D([0], [0], color='g', lw=4),\n",
    "                Line2D([0], [0], color='r', lw=4),\n",
    "                Line2D([0], [0], color='y', lw=4),\n",
    "                Line2D([0], [0], color='b', lw=4)]\n",
    "\n",
    "\n",
    "ax.legend(custom_lines, ['C-footprints+CF-BFPA', 'BPA', 'K-means+CF-BFPA', 'DCPA', 'balanced random', 'fully random'], fontsize=10)\n",
    "\n",
    "plt.annotate(# Label and coordinate\n",
    "r'$L = 400, N = 1$', xy=(361, 0), xytext=(325, 75), size = 10,# Custom arrow\n",
    "arrowprops=dict(facecolor='black', arrowstyle='<->'))\n",
    "\n",
    "plt.annotate(# Label and coordinate\n",
    "r'$L = 4, N = 100$', xy=(270, 110), xytext=(235, 205), size = 10,# Custom arrow\n",
    "arrowprops=dict(facecolor='black', arrowstyle='<->'))\n",
    "\n",
    "\n",
    "plt.draw()\n",
    "plt.show()\n",
    "\n",
    "image_format = 'pdf' # e.g .png, .svg, etc.\n",
    "image_name = 'NMSE_K.pdf'\n",
    "fig.savefig(image_name, format=image_format, dpi=400)"
   ],
   "metadata": {
    "collapsed": false,
    "ExecuteTime": {
     "end_time": "2024-11-19T13:08:49.194032Z",
     "start_time": "2024-11-19T13:08:48.770243Z"
    }
   },
   "id": "51e6903c9c9d7dbe",
   "outputs": [
    {
     "ename": "FileNotFoundError",
     "evalue": "[Errno 2] No such file or directory: './VARIABLES_SAVED/NMSE_L_100_N_4_NbrSetps_10_50_400.pkl'",
     "output_type": "error",
     "traceback": [
      "\u001B[1;31m---------------------------------------------------------------------------\u001B[0m",
      "\u001B[1;31mFileNotFoundError\u001B[0m                         Traceback (most recent call last)",
      "Cell \u001B[1;32mIn[2], line 1\u001B[0m\n\u001B[1;32m----> 1\u001B[0m results \u001B[38;5;241m=\u001B[39m load_results(\u001B[38;5;124m'\u001B[39m\u001B[38;5;124m./VARIABLES_SAVED/NMSE_L_100_N_4_NbrSetps_10_50_400.pkl\u001B[39m\u001B[38;5;124m'\u001B[39m)\n\u001B[0;32m      2\u001B[0m Kmeans_100_4 \u001B[38;5;241m=\u001B[39m results[\u001B[38;5;124m'\u001B[39m\u001B[38;5;124mKmeans_locations\u001B[39m\u001B[38;5;124m'\u001B[39m]\n\u001B[0;32m      3\u001B[0m Kfootprints_100_4 \u001B[38;5;241m=\u001B[39m results[\u001B[38;5;124m'\u001B[39m\u001B[38;5;124mKfootprints\u001B[39m\u001B[38;5;124m'\u001B[39m]\n",
      "Cell \u001B[1;32mIn[1], line 6\u001B[0m, in \u001B[0;36mload_results\u001B[1;34m(filename)\u001B[0m\n\u001B[0;32m      5\u001B[0m \u001B[38;5;28;01mdef\u001B[39;00m \u001B[38;5;21mload_results\u001B[39m(filename):\n\u001B[1;32m----> 6\u001B[0m     \u001B[38;5;28;01mwith\u001B[39;00m \u001B[38;5;28mopen\u001B[39m(filename, \u001B[38;5;124m'\u001B[39m\u001B[38;5;124mrb\u001B[39m\u001B[38;5;124m'\u001B[39m) \u001B[38;5;28;01mas\u001B[39;00m inp:\n\u001B[0;32m      7\u001B[0m         results \u001B[38;5;241m=\u001B[39m pickle\u001B[38;5;241m.\u001B[39mload(inp)\n\u001B[0;32m      8\u001B[0m     \u001B[38;5;28;01mreturn\u001B[39;00m results\n",
      "File \u001B[1;32m~\\.conda\\envs\\PythonCodes\\Lib\\site-packages\\IPython\\core\\interactiveshell.py:310\u001B[0m, in \u001B[0;36m_modified_open\u001B[1;34m(file, *args, **kwargs)\u001B[0m\n\u001B[0;32m    303\u001B[0m \u001B[38;5;28;01mif\u001B[39;00m file \u001B[38;5;129;01min\u001B[39;00m {\u001B[38;5;241m0\u001B[39m, \u001B[38;5;241m1\u001B[39m, \u001B[38;5;241m2\u001B[39m}:\n\u001B[0;32m    304\u001B[0m     \u001B[38;5;28;01mraise\u001B[39;00m \u001B[38;5;167;01mValueError\u001B[39;00m(\n\u001B[0;32m    305\u001B[0m         \u001B[38;5;124mf\u001B[39m\u001B[38;5;124m\"\u001B[39m\u001B[38;5;124mIPython won\u001B[39m\u001B[38;5;124m'\u001B[39m\u001B[38;5;124mt let you open fd=\u001B[39m\u001B[38;5;132;01m{\u001B[39;00mfile\u001B[38;5;132;01m}\u001B[39;00m\u001B[38;5;124m by default \u001B[39m\u001B[38;5;124m\"\u001B[39m\n\u001B[0;32m    306\u001B[0m         \u001B[38;5;124m\"\u001B[39m\u001B[38;5;124mas it is likely to crash IPython. If you know what you are doing, \u001B[39m\u001B[38;5;124m\"\u001B[39m\n\u001B[0;32m    307\u001B[0m         \u001B[38;5;124m\"\u001B[39m\u001B[38;5;124myou can use builtins\u001B[39m\u001B[38;5;124m'\u001B[39m\u001B[38;5;124m open.\u001B[39m\u001B[38;5;124m\"\u001B[39m\n\u001B[0;32m    308\u001B[0m     )\n\u001B[1;32m--> 310\u001B[0m \u001B[38;5;28;01mreturn\u001B[39;00m io_open(file, \u001B[38;5;241m*\u001B[39margs, \u001B[38;5;241m*\u001B[39m\u001B[38;5;241m*\u001B[39mkwargs)\n",
      "\u001B[1;31mFileNotFoundError\u001B[0m: [Errno 2] No such file or directory: './VARIABLES_SAVED/NMSE_L_100_N_4_NbrSetps_10_50_400.pkl'"
     ]
    }
   ],
   "execution_count": 2
  },
  {
   "cell_type": "code",
   "outputs": [],
   "source": [],
   "metadata": {
    "collapsed": false
   },
   "id": "1566aab26b2264dc",
   "execution_count": null
  }
 ],
 "metadata": {
  "kernelspec": {
   "display_name": "Python 3",
   "language": "python",
   "name": "python3"
  },
  "language_info": {
   "codemirror_mode": {
    "name": "ipython",
    "version": 2
   },
   "file_extension": ".py",
   "mimetype": "text/x-python",
   "name": "python",
   "nbconvert_exporter": "python",
   "pygments_lexer": "ipython2",
   "version": "2.7.6"
  }
 },
 "nbformat": 4,
 "nbformat_minor": 5
}
